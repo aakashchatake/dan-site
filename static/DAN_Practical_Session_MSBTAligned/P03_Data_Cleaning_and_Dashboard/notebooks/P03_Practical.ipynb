{
 "cells": [
  {
   "cell_type": "markdown",
   "id": "fbb29e87",
   "metadata": {},
   "source": [
    "# P03 – Data Cleaning & Excel Dashboard\n",
    "\n",
    "**Objectives**:\n",
    "\n",
    "- Understand the need for data cleaning\n",
    "- Remove duplicates and handle missing values\n",
    "- Convert a data range into an Excel Table\n",
    "- Create a simple dashboard to summarise sales\n"
   ]
  },
  {
   "cell_type": "code",
   "execution_count": null,
   "id": "89a1e6ee",
   "metadata": {},
   "outputs": [],
   "source": [
    "import pandas as pd\n",
    "import numpy as np\n",
    "import matplotlib.pyplot as plt\n",
    "\n",
    "# Set a random seed for reproducibility\n",
    "random_seed = 789\n",
    "np.random.seed(random_seed)\n"
   ]
  },
  {
   "cell_type": "code",
   "execution_count": null,
   "id": "80da240b",
   "metadata": {},
   "outputs": [],
   "source": [
    "# Load the synthetic dataset\n",
    "dataset_path = '../data/P03_synthetic_dataset.csv'\n",
    "df = pd.read_csv(dataset_path)\n",
    "print('Dataset shape:', df.shape)\n",
    "df.head()"
   ]
  },
  {
   "cell_type": "code",
   "execution_count": null,
   "id": "199d5da1",
   "metadata": {},
   "outputs": [],
   "source": [
    "# TODO: Perform the analysis as per the practical instructions.\n",
    "# Compute descriptive statistics, create charts, perform tests, etc.\n",
    "# Use the provided dataset in df. Save any figures you create to the results directory.\n",
    "\n",
    "# Example: compute basic statistics for numeric columns\n",
    "# numeric_cols = df.select_dtypes(include=['int64','float64']).columns\n",
    "# stats = df[numeric_cols].describe()\n",
    "# stats\n"
   ]
  },
  {
   "cell_type": "code",
   "execution_count": null,
   "id": "623857ce",
   "metadata": {},
   "outputs": [],
   "source": [
    "# After generating figures, save them using something like:\n",
    "# plt.savefig('results/your_figure.png')\n",
    "\n",
    "# At the end, summarise your findings in a report.\n"
   ]
  }
 ],
 "metadata": {},
 "nbformat": 4,
 "nbformat_minor": 5
}
