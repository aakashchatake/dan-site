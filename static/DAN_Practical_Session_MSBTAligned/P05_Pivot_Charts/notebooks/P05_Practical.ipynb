{
 "cells": [
  {
   "cell_type": "markdown",
   "id": "1bcb47af",
   "metadata": {},
   "source": [
    "# P05 – Pivot Charts\n",
    "\n",
    "**Objectives**:\n",
    "\n",
    "- Generate charts directly from pivot tables\n",
    "- Choose appropriate chart types for summaries\n",
    "- Analyse trends using visual displays\n"
   ]
  },
  {
   "cell_type": "code",
   "execution_count": null,
   "id": "08daae5a",
   "metadata": {},
   "outputs": [],
   "source": [
    "import pandas as pd\n",
    "import numpy as np\n",
    "import matplotlib.pyplot as plt\n",
    "\n",
    "# Set a random seed for reproducibility\n",
    "random_seed = 202\n",
    "np.random.seed(random_seed)\n"
   ]
  },
  {
   "cell_type": "code",
   "execution_count": null,
   "id": "98e1ed77",
   "metadata": {},
   "outputs": [],
   "source": [
    "# Load the synthetic dataset\n",
    "dataset_path = '../data/P05_synthetic_dataset.csv'\n",
    "df = pd.read_csv(dataset_path)\n",
    "print('Dataset shape:', df.shape)\n",
    "df.head()"
   ]
  },
  {
   "cell_type": "code",
   "execution_count": null,
   "id": "8f1b20d5",
   "metadata": {},
   "outputs": [],
   "source": [
    "# TODO: Perform the analysis as per the practical instructions.\n",
    "# Compute descriptive statistics, create charts, perform tests, etc.\n",
    "# Use the provided dataset in df. Save any figures you create to the results directory.\n",
    "\n",
    "# Example: compute basic statistics for numeric columns\n",
    "# numeric_cols = df.select_dtypes(include=['int64','float64']).columns\n",
    "# stats = df[numeric_cols].describe()\n",
    "# stats\n"
   ]
  },
  {
   "cell_type": "code",
   "execution_count": null,
   "id": "1f3e1611",
   "metadata": {},
   "outputs": [],
   "source": [
    "# After generating figures, save them using something like:\n",
    "# plt.savefig('results/your_figure.png')\n",
    "\n",
    "# At the end, summarise your findings in a report.\n"
   ]
  }
 ],
 "metadata": {},
 "nbformat": 4,
 "nbformat_minor": 5
}
