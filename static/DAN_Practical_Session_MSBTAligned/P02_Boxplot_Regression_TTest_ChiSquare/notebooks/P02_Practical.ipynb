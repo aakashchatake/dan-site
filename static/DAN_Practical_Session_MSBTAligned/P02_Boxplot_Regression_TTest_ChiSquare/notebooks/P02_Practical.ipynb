{
 "cells": [
  {
   "cell_type": "markdown",
   "id": "c7f51d9d",
   "metadata": {},
   "source": [
    "# P02 – Box Plot, Regression, T‑Test & Chi‑Square\n",
    "\n",
    "**Objectives**:\n",
    "\n",
    "- Visualise data using box plots\n",
    "- Perform simple linear regression\n",
    "- Conduct two‑sample t‑test and compute a confidence interval\n",
    "- Carry out a chi‑square test\n"
   ]
  },
  {
   "cell_type": "code",
   "execution_count": null,
   "id": "18d31c73",
   "metadata": {},
   "outputs": [],
   "source": [
    "import pandas as pd\n",
    "import numpy as np\n",
    "import matplotlib.pyplot as plt\n",
    "\n",
    "# Set a random seed for reproducibility\n",
    "random_seed = 456\n",
    "np.random.seed(random_seed)\n"
   ]
  },
  {
   "cell_type": "code",
   "execution_count": null,
   "id": "c4b15c22",
   "metadata": {},
   "outputs": [],
   "source": [
    "# Load the synthetic dataset\n",
    "dataset_path = '../data/P02_synthetic_dataset.csv'\n",
    "df = pd.read_csv(dataset_path)\n",
    "print('Dataset shape:', df.shape)\n",
    "df.head()"
   ]
  },
  {
   "cell_type": "code",
   "execution_count": null,
   "id": "d1046c35",
   "metadata": {},
   "outputs": [],
   "source": [
    "# TODO: Perform the analysis as per the practical instructions.\n",
    "# Compute descriptive statistics, create charts, perform tests, etc.\n",
    "# Use the provided dataset in df. Save any figures you create to the results directory.\n",
    "\n",
    "# Example: compute basic statistics for numeric columns\n",
    "# numeric_cols = df.select_dtypes(include=['int64','float64']).columns\n",
    "# stats = df[numeric_cols].describe()\n",
    "# stats\n"
   ]
  },
  {
   "cell_type": "code",
   "execution_count": null,
   "id": "fab04b0a",
   "metadata": {},
   "outputs": [],
   "source": [
    "# After generating figures, save them using something like:\n",
    "# plt.savefig('results/your_figure.png')\n",
    "\n",
    "# At the end, summarise your findings in a report.\n"
   ]
  }
 ],
 "metadata": {},
 "nbformat": 4,
 "nbformat_minor": 5
}
