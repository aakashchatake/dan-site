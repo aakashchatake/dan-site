{
 "cells": [
  {
   "cell_type": "markdown",
   "id": "8facda86",
   "metadata": {},
   "source": [
    "# P08 – Pie Chart\n",
    "\n",
    "**Objectives**:\n",
    "\n",
    "- Create a pie chart from categorical data\n",
    "- Add data labels and explode slices\n",
    "- Interpret the proportions represented in the chart\n"
   ]
  },
  {
   "cell_type": "code",
   "execution_count": null,
   "id": "aec7e500",
   "metadata": {},
   "outputs": [],
   "source": [
    "import pandas as pd\n",
    "import numpy as np\n",
    "import matplotlib.pyplot as plt\n",
    "\n",
    "# Set a random seed for reproducibility\n",
    "random_seed = 505\n",
    "np.random.seed(random_seed)\n"
   ]
  },
  {
   "cell_type": "code",
   "execution_count": null,
   "id": "285e8b28",
   "metadata": {},
   "outputs": [],
   "source": [
    "# Load the synthetic dataset\n",
    "dataset_path = '../data/P08_synthetic_dataset.csv'\n",
    "df = pd.read_csv(dataset_path)\n",
    "print('Dataset shape:', df.shape)\n",
    "df.head()"
   ]
  },
  {
   "cell_type": "code",
   "execution_count": null,
   "id": "dbf4d2c9",
   "metadata": {},
   "outputs": [],
   "source": [
    "# TODO: Perform the analysis as per the practical instructions.\n",
    "# Compute descriptive statistics, create charts, perform tests, etc.\n",
    "# Use the provided dataset in df. Save any figures you create to the results directory.\n",
    "\n",
    "# Example: compute basic statistics for numeric columns\n",
    "# numeric_cols = df.select_dtypes(include=['int64','float64']).columns\n",
    "# stats = df[numeric_cols].describe()\n",
    "# stats\n"
   ]
  },
  {
   "cell_type": "code",
   "execution_count": null,
   "id": "aafccfd0",
   "metadata": {},
   "outputs": [],
   "source": [
    "# After generating figures, save them using something like:\n",
    "# plt.savefig('results/your_figure.png')\n",
    "\n",
    "# At the end, summarise your findings in a report.\n"
   ]
  }
 ],
 "metadata": {},
 "nbformat": 4,
 "nbformat_minor": 5
}
